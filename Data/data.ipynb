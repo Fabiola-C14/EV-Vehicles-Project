{
 "cells": [
  {
   "cell_type": "code",
   "execution_count": 15,
   "metadata": {},
   "outputs": [],
   "source": [
    "# Dependencies\n",
    "import pandas as pd\n",
    "import numpy as np\n",
    "import requests\n",
    "import json\n",
    "from pprint import pprint\n",
    "import us\n",
    "\n",
    "# Google API Key\n",
    "from config import gkey"
   ]
  },
  {
   "cell_type": "code",
   "execution_count": 12,
   "metadata": {},
   "outputs": [],
   "source": [
    "url='https://api.openchargemap.io/v3/poi/?output=json&countrycode=US&maxresults=32000&compact=true'"
   ]
  },
  {
   "cell_type": "code",
   "execution_count": 13,
   "metadata": {},
   "outputs": [],
   "source": [
    "state_lat_lng = requests.get(url).json()\n"
   ]
  },
  {
   "cell_type": "code",
   "execution_count": 11,
   "metadata": {},
   "outputs": [
    {
     "name": "stdout",
     "output_type": "stream",
     "text": [
      "{'AddressInfo': {'AccessComments': None,\n",
      "                 'AddressLine1': '3214 Mall Dr',\n",
      "                 'AddressLine2': None,\n",
      "                 'ContactEmail': None,\n",
      "                 'ContactTelephone1': ' (715) 833-7788',\n",
      "                 'ContactTelephone2': None,\n",
      "                 'Country': None,\n",
      "                 'CountryID': 2,\n",
      "                 'Distance': None,\n",
      "                 'DistanceUnit': 0,\n",
      "                 'ID': 7808,\n",
      "                 'Latitude': 44.78719,\n",
      "                 'Longitude': -91.46114,\n",
      "                 'Postcode': '54701',\n",
      "                 'RelatedURL': 'http://carstations.com/6850',\n",
      "                 'StateOrProvince': 'WI',\n",
      "                 'Title': '3214 Mall Dr',\n",
      "                 'Town': 'Eau Claire'},\n",
      " 'Connections': [{'Amps': None,\n",
      "                  'Comments': None,\n",
      "                  'ConnectionType': None,\n",
      "                  'ConnectionTypeID': 1,\n",
      "                  'CurrentType': None,\n",
      "                  'CurrentTypeID': None,\n",
      "                  'ID': 5340,\n",
      "                  'Level': None,\n",
      "                  'LevelID': 2,\n",
      "                  'PowerKW': None,\n",
      "                  'Quantity': None,\n",
      "                  'Reference': 'J1772',\n",
      "                  'StatusType': None,\n",
      "                  'StatusTypeID': None,\n",
      "                  'Voltage': None}],\n",
      " 'DataProvider': None,\n",
      " 'DataProviderID': 15,\n",
      " 'DataProvidersReference': '6850',\n",
      " 'DataQualityLevel': 1,\n",
      " 'DateCreated': '2011-11-11T12:05:00Z',\n",
      " 'DateLastConfirmed': None,\n",
      " 'DateLastStatusUpdate': '2017-11-04T14:05:00Z',\n",
      " 'DateLastVerified': None,\n",
      " 'DatePlanned': None,\n",
      " 'GeneralComments': None,\n",
      " 'ID': 7911,\n",
      " 'IsRecentlyVerified': False,\n",
      " 'MediaItems': None,\n",
      " 'MetadataValues': None,\n",
      " 'NumberOfPoints': None,\n",
      " 'OperatorID': 26,\n",
      " 'OperatorInfo': None,\n",
      " 'OperatorsReference': None,\n",
      " 'ParentChargePointID': None,\n",
      " 'PercentageSimilarity': None,\n",
      " 'StatusType': None,\n",
      " 'StatusTypeID': 0,\n",
      " 'SubmissionStatus': None,\n",
      " 'SubmissionStatusTypeID': 100,\n",
      " 'UUID': '6FE38BCE-119B-49F3-B9BD-4F7565D200F4',\n",
      " 'UsageCost': None,\n",
      " 'UsageType': None,\n",
      " 'UsageTypeID': None,\n",
      " 'UserComments': None}\n"
     ]
    }
   ],
   "source": [
    "pprint(state_lat_lng[-1])"
   ]
  },
  {
   "cell_type": "code",
   "execution_count": 14,
   "metadata": {},
   "outputs": [
    {
     "data": {
      "text/plain": [
       "31128"
      ]
     },
     "execution_count": 14,
     "metadata": {},
     "output_type": "execute_result"
    }
   ],
   "source": [
    "len(state_lat_lng)"
   ]
  },
  {
   "cell_type": "code",
   "execution_count": 16,
   "metadata": {},
   "outputs": [],
   "source": [
    "with open('data.json', 'w') as f:\n",
    "    json.dump(state_lat_lng, f)"
   ]
  },
  {
   "cell_type": "code",
   "execution_count": null,
   "metadata": {},
   "outputs": [],
   "source": []
  }
 ],
 "metadata": {
  "anaconda-cloud": {},
  "kernelspec": {
   "display_name": "Python 3",
   "language": "python",
   "name": "python3"
  },
  "language_info": {
   "codemirror_mode": {
    "name": "ipython",
    "version": 3
   },
   "file_extension": ".py",
   "mimetype": "text/x-python",
   "name": "python",
   "nbconvert_exporter": "python",
   "pygments_lexer": "ipython3",
   "version": "3.7.6"
  }
 },
 "nbformat": 4,
 "nbformat_minor": 4
}
